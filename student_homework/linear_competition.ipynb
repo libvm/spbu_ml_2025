{
  "nbformat": 4,
  "nbformat_minor": 0,
  "metadata": {
    "colab": {
      "provenance": []
    },
    "kernelspec": {
      "name": "python3",
      "display_name": "Python 3"
    },
    "language_info": {
      "name": "python"
    }
  },
  "cells": [
    {
      "cell_type": "markdown",
      "source": [
        "**Feature Engineering**"
      ],
      "metadata": {
        "id": "wFBCe60e9R3i"
      }
    },
    {
      "cell_type": "markdown",
      "source": [
        "Создал 3 категориальных признака, планируя \"схлопнуть\" числовые, однако оказалось, что числовые лучше оставить. Для создания категориальных признаков разбивал на бины по 25 и 75 процентилям.\n",
        "\n",
        "Преобразовал дату в более удобный вид, что немного улучшило MSE, но на валидацинной выборке я заметил, что модель переобучается на этих признаках (Year, Month), поэтому было решено не использовать их при обучении."
      ],
      "metadata": {
        "id": "yRGni8zF7zpn"
      }
    },
    {
      "cell_type": "code",
      "source": [
        "import pandas as pd\n",
        "import numpy as np\n",
        "from sklearn.linear_model import ElasticNet\n",
        "from sklearn.pipeline import Pipeline\n",
        "from sklearn.compose import ColumnTransformer\n",
        "from sklearn.preprocessing import StandardScaler, OneHotEncoder, PolynomialFeatures\n",
        "from sklearn.impute import SimpleImputer\n",
        "from sklearn.metrics import mean_absolute_error, mean_squared_error, r2_score\n",
        "from sklearn.model_selection import RandomizedSearchCV\n",
        "from scipy.stats import loguniform, uniform\n",
        "import matplotlib.pyplot as plt\n",
        "import seaborn as sns\n",
        "\n",
        "# при сабмите на каггле случайно убрал X2 house age из трейна, поэтому результат может отличаться\n",
        "\n",
        "NUMERIC_FEATURES = ['X2 house age', 'X3 distance to the nearest MRT station',\n",
        "                    'X4 number of convenience stores', 'X5 latitude', 'X6 longitude']\n",
        "CATEGORICAL_FEATURES = ['X3_category', 'X4_category', 'X2_category']\n",
        "\n",
        "def preprocess_data(df, is_train=True):\n",
        "    df = df.copy()\n",
        "\n",
        "    # обработка выбросов для тренировочных данных\n",
        "    if is_train:\n",
        "        for col in NUMERIC_FEATURES:\n",
        "            lower = df[col].quantile(0.01)\n",
        "            upper = df[col].quantile(0.99)\n",
        "            df[col] = df[col].clip(lower, upper)\n",
        "\n",
        "    # преобразование даты\n",
        "    df['Year'] = np.floor(df['X1 transaction date']).astype(int)\n",
        "    df['Month'] = ((df['X1 transaction date'] - df['Year']) * 12 + 1).astype(int)\n",
        "    df.drop(columns=['X1 transaction date'], inplace=True)\n",
        "\n",
        "    # создание категориальных признаков\n",
        "    df['X2_category'] = pd.cut(df['X2 house age'],\n",
        "                               bins=[-1, 10, 30, np.inf],\n",
        "                               labels=['new', 'medium', 'old'])\n",
        "    df['X3_category'] = pd.cut(df['X3 distance to the nearest MRT station'],\n",
        "                               bins=[-1, 290, 1400, np.inf],\n",
        "                               labels=['close', 'medium', 'far'])\n",
        "    df['X4_category'] = pd.cut(df['X4 number of convenience stores'],\n",
        "                               bins=[-1, 1, 6, np.inf],\n",
        "                               labels=['few', 'medium', 'many'])\n",
        "\n",
        "    return df"
      ],
      "metadata": {
        "id": "hXVqU4v94U1E"
      },
      "execution_count": null,
      "outputs": []
    },
    {
      "cell_type": "markdown",
      "source": [
        "Логарифмирую целевую переменную, чтобы избавиться от ассиметрии"
      ],
      "metadata": {
        "id": "bgB3LGG19120"
      }
    },
    {
      "cell_type": "code",
      "source": [
        "def load_data(train_path, test_path):\n",
        "    train_data = pd.read_csv(train_path)\n",
        "    test_data = pd.read_csv(test_path)\n",
        "\n",
        "    train_processed = preprocess_data(train_data, is_train=True)\n",
        "    test_processed = preprocess_data(test_data, is_train=False)\n",
        "\n",
        "    X_train = train_processed.drop(columns=['Y house price of unit area'])\n",
        "    y_train = np.log1p(train_processed['Y house price of unit area'])\n",
        "\n",
        "    return X_train, y_train, test_processed"
      ],
      "metadata": {
        "id": "1RtBXMYT4hP0"
      },
      "execution_count": null,
      "outputs": []
    },
    {
      "cell_type": "code",
      "source": [
        "X_train, y_train, test_data = load_data(\"prices_train.csv\", \"prices_test.csv\")"
      ],
      "metadata": {
        "id": "ehFrvEp15Mwl"
      },
      "execution_count": null,
      "outputs": []
    },
    {
      "cell_type": "code",
      "source": [
        "def plot_distributions(original, transformed):\n",
        "    plt.figure(figsize=(12, 5))\n",
        "\n",
        "    plt.subplot(1, 2, 1)\n",
        "    sns.histplot(original, kde=True, color='blue')\n",
        "    plt.title('Original Target')\n",
        "    plt.xlabel('House Price of Unit Area')\n",
        "\n",
        "    plt.subplot(1, 2, 2)\n",
        "    sns.histplot(transformed, kde=True, color='green')\n",
        "    plt.title('Log Target')\n",
        "    plt.xlabel('log1p(House Price of Unit Area)')\n",
        "\n",
        "    plt.tight_layout()\n",
        "    plt.show()"
      ],
      "metadata": {
        "id": "lEDO5Hka4l-Z"
      },
      "execution_count": null,
      "outputs": []
    },
    {
      "cell_type": "markdown",
      "source": [
        "Из графиков видно, что логарифмирование избавляет от правого хвоста в распределении целевой переменной"
      ],
      "metadata": {
        "id": "eMR7fvdH-B8_"
      }
    },
    {
      "cell_type": "code",
      "source": [
        "original_target = np.expm1(y_train)\n",
        "plot_distributions(original_target, y_train)"
      ],
      "metadata": {
        "colab": {
          "base_uri": "https://localhost:8080/",
          "height": 476
        },
        "id": "RF1BSKHc5ZVv",
        "outputId": "e7555456-67fb-4417-9140-803003e15841"
      },
      "execution_count": null,
      "outputs": [
        {
          "output_type": "display_data",
          "data": {
            "text/plain": [
              "<Figure size 1200x500 with 2 Axes>"
            ],
            "image/png": "[encoded data removed]"
          },
          "metadata": {}
        }
      ]
    },
    {
      "cell_type": "markdown",
      "source": [
        "NaN-ы заполняю для числовых средним, а для категориальных модой. Добавляю полиномиальные признаки 3-ей степени. Из протестированных моделей лучше всего себя показала ElasticNet"
      ],
      "metadata": {
        "id": "hKzzfQLs-e9J"
      }
    },
    {
      "cell_type": "code",
      "source": [
        "def create_pipeline():\n",
        "    num_pipeline = Pipeline([\n",
        "        ('imputer', SimpleImputer(strategy='mean')),\n",
        "        ('scaler', StandardScaler()),\n",
        "        ('poly', PolynomialFeatures(degree=3, include_bias=False))\n",
        "    ])\n",
        "\n",
        "    cat_pipeline = Pipeline([\n",
        "        ('imputer', SimpleImputer(strategy='most_frequent')),\n",
        "        ('encoder', OneHotEncoder(handle_unknown='ignore'))\n",
        "    ])\n",
        "\n",
        "    preprocessor = ColumnTransformer([\n",
        "        ('num', num_pipeline, NUMERIC_FEATURES),\n",
        "        ('cat', cat_pipeline, CATEGORICAL_FEATURES)\n",
        "    ])\n",
        "\n",
        "    return Pipeline([\n",
        "        ('preprocessor', preprocessor),\n",
        "        ('regressor', ElasticNet(max_iter=10000))\n",
        "    ])"
      ],
      "metadata": {
        "id": "7v9O_MwG4plo"
      },
      "execution_count": null,
      "outputs": []
    },
    {
      "cell_type": "markdown",
      "source": [
        "Оптимизация гиперпараметров"
      ],
      "metadata": {
        "id": "FQA8eMHH_KuW"
      }
    },
    {
      "cell_type": "code",
      "source": [
        "def configure_search(pipeline):\n",
        "    param_dist = {\n",
        "        'regressor__alpha': loguniform(1e-4, 10),\n",
        "        'regressor__l1_ratio': uniform(0, 1)\n",
        "    }\n",
        "\n",
        "    return RandomizedSearchCV(\n",
        "        pipeline,\n",
        "        param_distributions=param_dist,\n",
        "        n_iter=30,\n",
        "        scoring='neg_mean_squared_error',\n",
        "        cv=5,\n",
        "        random_state=42,\n",
        "        n_jobs=-1,\n",
        "        verbose=1\n",
        "    )"
      ],
      "metadata": {
        "id": "-THJm5lF4tO7"
      },
      "execution_count": null,
      "outputs": []
    },
    {
      "cell_type": "code",
      "source": [
        "pipeline = create_pipeline()\n",
        "search = configure_search(pipeline)\n",
        "\n",
        "# обучение модели\n",
        "search.fit(X_train, y_train)\n",
        "\n",
        "print(\"Best parameters:\")\n",
        "print(search.best_params_)"
      ],
      "metadata": {
        "colab": {
          "base_uri": "https://localhost:8080/"
        },
        "id": "zvwrb-GB5jQG",
        "outputId": "d019ef88-a0d1-4ad2-bd53-33f2f631bfe7"
      },
      "execution_count": null,
      "outputs": [
        {
          "output_type": "stream",
          "name": "stdout",
          "text": [
            "Fitting 5 folds for each of 30 candidates, totalling 150 fits\n",
            "Best parameters:\n",
            "{'regressor__alpha': np.float64(0.0028888383623653178), 'regressor__l1_ratio': np.float64(0.3663618432936917)}\n"
          ]
        }
      ]
    },
    {
      "cell_type": "code",
      "source": [
        "def evaluate_model(model, X, y):\n",
        "    preds = np.expm1(model.predict(X))\n",
        "    y_true = np.expm1(y)\n",
        "\n",
        "    metrics = {\n",
        "        'MAE': mean_absolute_error(y_true, preds),\n",
        "        'MSE': mean_squared_error(y_true, preds),\n",
        "        'RMSE': np.sqrt(mean_squared_error(y_true, preds)),\n",
        "        'R2': r2_score(y_true, preds)\n",
        "    }\n",
        "\n",
        "    return metrics"
      ],
      "metadata": {
        "id": "ClJrw2gN4wfS"
      },
      "execution_count": null,
      "outputs": []
    },
    {
      "cell_type": "code",
      "source": [
        "print(\"Training metrics:\")\n",
        "best_model = search.best_estimator_\n",
        "evaluate_model(best_model, X_train, y_train)"
      ],
      "metadata": {
        "colab": {
          "base_uri": "https://localhost:8080/"
        },
        "id": "Y-klhKbD52Lf",
        "outputId": "e54637c8-7d4d-4dc4-e71d-dc981ac85616"
      },
      "execution_count": null,
      "outputs": [
        {
          "output_type": "stream",
          "name": "stdout",
          "text": [
            "Training metrics:\n"
          ]
        },
        {
          "output_type": "execute_result",
          "data": {
            "text/plain": [
              "{'MAE': 4.356721815350513,\n",
              " 'MSE': 49.95732027910949,\n",
              " 'RMSE': np.float64(7.06804925556617),\n",
              " 'R2': 0.7355874204213328}"
            ]
          },
          "metadata": {},
          "execution_count": 147
        }
      ]
    },
    {
      "cell_type": "code",
      "source": [
        "def save_predictions(model, test_data, filename):\n",
        "    predictions = np.expm1(model.predict(test_data))\n",
        "    submission = pd.DataFrame({\n",
        "        'index': test_data.index,\n",
        "        'Y house price of unit area': predictions\n",
        "    })\n",
        "    submission.to_csv(filename, index=False)"
      ],
      "metadata": {
        "id": "a8xOp0ED41nI"
      },
      "execution_count": null,
      "outputs": []
    },
    {
      "cell_type": "code",
      "source": [
        "save_predictions(best_model, test_data, \"submission.csv\")"
      ],
      "metadata": {
        "id": "YEZp85rd579R"
      },
      "execution_count": null,
      "outputs": []
    }
  ]
}